{
 "cells": [
  {
   "cell_type": "markdown",
   "metadata": {},
   "source": [
    "## Exercicio 1\n",
    "Crie um programa que calcule a soma, média e desvio padrão de uma lista de números fornecida pelo usuário."
   ]
  },
  {
   "cell_type": "code",
   "execution_count": null,
   "metadata": {},
   "outputs": [
    {
     "name": "stdout",
     "output_type": "stream",
     "text": [
      "Lista:  [8, 9, 7, 5, 8]\n",
      "Soma:  37\n",
      "Media:  7.4\n",
      "Desvio Padrão:  1.51657508881031\n"
     ]
    }
   ],
   "source": [
    "import statistics\n",
    "\n",
    "soma = 0\n",
    "lista = []\n",
    "\n",
    "for i in range(5):\n",
    "    lista.append(int(input(\"Informe um valor: \")))\n",
    "\n",
    "for i in lista:\n",
    "    soma += i\n",
    "  \n",
    "media = soma / len(lista)    \n",
    "print(\"Lista: \", lista)\n",
    "print(\"Soma: \", soma)\n",
    "print(\"Media: \", media)\n",
    "print(\"Desvio Padrão: \", statistics.stdev(lista))"
   ]
  }
 ],
 "metadata": {
  "kernelspec": {
   "display_name": "Python 3",
   "language": "python",
   "name": "python3"
  },
  "language_info": {
   "codemirror_mode": {
    "name": "ipython",
    "version": 3
   },
   "file_extension": ".py",
   "mimetype": "text/x-python",
   "name": "python",
   "nbconvert_exporter": "python",
   "pygments_lexer": "ipython3",
   "version": "3.8.10"
  }
 },
 "nbformat": 4,
 "nbformat_minor": 2
}
