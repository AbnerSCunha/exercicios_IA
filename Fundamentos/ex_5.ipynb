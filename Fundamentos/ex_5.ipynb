{
 "cells": [
  {
   "cell_type": "markdown",
   "metadata": {},
   "source": [
    "## Exercicio 5\n",
    "Pratique a manipulação de arquivos lendo um arquivo .txt e exibindo a palavra mais frequente."
   ]
  },
  {
   "cell_type": "code",
   "execution_count": 11,
   "metadata": {},
   "outputs": [
    {
     "name": "stdout",
     "output_type": "stream",
     "text": [
      "Em uma terra distante, onde o sol se punha sobre as montanhas,\n",
      "um jovem aventureiro chamado Alex começou sua jornada.\n",
      "Ele buscava o tesouro perdido da cidade antiga,\n",
      "um mistério que havia intrigado os moradores locais por séculos.\n",
      "\n",
      "Com sua mochila cheia de provisões e sua espada ao lado,\n",
      "Alex enfrentou os desafios do caminho, desde rios caudalosos até florestas escuras.\n",
      "Ele encontrou criaturas estranhas e amigos inesperados,\n",
      "cada um com sua própria história para contar.\n",
      "\n",
      "Mas Alex não estava sozinho em sua busca.\n",
      "Um rival sombrio, conhecido apenas como \"O Caçador\",\n",
      "também procurava o tesouro, e não hesitaria em usar a força para obtê-lo.\n",
      "\n",
      "A corrida pelo tesouro havia começado,\n",
      "e apenas o tempo diria quem seria o vencedor.\n"
     ]
    }
   ],
   "source": [
    "arquivo = open('aventura.txt', 'r')\n",
    "conteudo = arquivo.read()\n",
    "print(conteudo)"
   ]
  },
  {
   "cell_type": "code",
   "execution_count": 20,
   "metadata": {},
   "outputs": [
    {
     "name": "stdout",
     "output_type": "stream",
     "text": [
      "['em', 'uma', 'terra', 'distante', 'onde', 'o', 'sol', 'se', 'punha', 'sobre', 'as', 'montanhas', 'um', 'jovem', 'aventureiro', 'chamado', 'alex', 'começou', 'sua', 'jornada', 'ele', 'buscava', 'o', 'tesouro', 'perdido', 'da', 'cidade', 'antiga', 'um', 'mistério', 'que', 'havia', 'intrigado', 'os', 'moradores', 'locais', 'por', 'séculos', 'com', 'sua', 'mochila', 'cheia', 'de', 'provisões', 'e', 'sua', 'espada', 'ao', 'lado', 'alex', 'enfrentou', 'os', 'desafios', 'do', 'caminho', 'desde', 'rios', 'caudalosos', 'até', 'florestas', 'escuras', 'ele', 'encontrou', 'criaturas', 'estranhas', 'e', 'amigos', 'inesperados', 'cada', 'um', 'com', 'sua', 'própria', 'história', 'para', 'contar', 'mas', 'alex', 'não', 'estava', 'sozinho', 'em', 'sua', 'busca', 'um', 'rival', 'sombrio', 'conhecido', 'apenas', 'como', 'o', 'caçador', 'também', 'procurava', 'o', 'tesouro', 'e', 'não', 'hesitaria', 'em', 'usar', 'a', 'força', 'para', 'obtê-lo', 'a', 'corrida', 'pelo', 'tesouro', 'havia', 'começado', 'e', 'apenas', 'o', 'tempo', 'diria', 'quem', 'seria', 'o', 'vencedor']\n",
      "[{'palavra': 'em', 'quant': 3}, {'palavra': 'uma', 'quant': 1}, {'palavra': 'terra', 'quant': 1}, {'palavra': 'distante', 'quant': 1}, {'palavra': 'onde', 'quant': 1}, {'palavra': 'o', 'quant': 6}, {'palavra': 'sol', 'quant': 1}, {'palavra': 'se', 'quant': 1}, {'palavra': 'punha', 'quant': 1}, {'palavra': 'sobre', 'quant': 1}, {'palavra': 'as', 'quant': 1}, {'palavra': 'montanhas', 'quant': 1}, {'palavra': 'um', 'quant': 4}, {'palavra': 'jovem', 'quant': 1}, {'palavra': 'aventureiro', 'quant': 1}, {'palavra': 'chamado', 'quant': 1}, {'palavra': 'alex', 'quant': 3}, {'palavra': 'começou', 'quant': 1}, {'palavra': 'sua', 'quant': 5}, {'palavra': 'jornada', 'quant': 1}, {'palavra': 'ele', 'quant': 2}, {'palavra': 'buscava', 'quant': 1}, {'palavra': 'tesouro', 'quant': 3}, {'palavra': 'perdido', 'quant': 1}, {'palavra': 'da', 'quant': 1}, {'palavra': 'cidade', 'quant': 1}, {'palavra': 'antiga', 'quant': 1}, {'palavra': 'mistério', 'quant': 1}, {'palavra': 'que', 'quant': 1}, {'palavra': 'havia', 'quant': 2}, {'palavra': 'intrigado', 'quant': 1}, {'palavra': 'os', 'quant': 2}, {'palavra': 'moradores', 'quant': 1}, {'palavra': 'locais', 'quant': 1}, {'palavra': 'por', 'quant': 1}, {'palavra': 'séculos', 'quant': 1}, {'palavra': 'com', 'quant': 2}, {'palavra': 'mochila', 'quant': 1}, {'palavra': 'cheia', 'quant': 1}, {'palavra': 'de', 'quant': 1}, {'palavra': 'provisões', 'quant': 1}, {'palavra': 'e', 'quant': 4}, {'palavra': 'espada', 'quant': 1}, {'palavra': 'ao', 'quant': 1}, {'palavra': 'lado', 'quant': 1}, {'palavra': 'enfrentou', 'quant': 1}, {'palavra': 'desafios', 'quant': 1}, {'palavra': 'do', 'quant': 1}, {'palavra': 'caminho', 'quant': 1}, {'palavra': 'desde', 'quant': 1}, {'palavra': 'rios', 'quant': 1}, {'palavra': 'caudalosos', 'quant': 1}, {'palavra': 'até', 'quant': 1}, {'palavra': 'florestas', 'quant': 1}, {'palavra': 'escuras', 'quant': 1}, {'palavra': 'encontrou', 'quant': 1}, {'palavra': 'criaturas', 'quant': 1}, {'palavra': 'estranhas', 'quant': 1}, {'palavra': 'amigos', 'quant': 1}, {'palavra': 'inesperados', 'quant': 1}, {'palavra': 'cada', 'quant': 1}, {'palavra': 'própria', 'quant': 1}, {'palavra': 'história', 'quant': 1}, {'palavra': 'para', 'quant': 2}, {'palavra': 'contar', 'quant': 1}, {'palavra': 'mas', 'quant': 1}, {'palavra': 'não', 'quant': 2}, {'palavra': 'estava', 'quant': 1}, {'palavra': 'sozinho', 'quant': 1}, {'palavra': 'busca', 'quant': 1}, {'palavra': 'rival', 'quant': 1}, {'palavra': 'sombrio', 'quant': 1}, {'palavra': 'conhecido', 'quant': 1}, {'palavra': 'apenas', 'quant': 2}, {'palavra': 'como', 'quant': 1}, {'palavra': 'caçador', 'quant': 1}, {'palavra': 'também', 'quant': 1}, {'palavra': 'procurava', 'quant': 1}, {'palavra': 'hesitaria', 'quant': 1}, {'palavra': 'usar', 'quant': 1}, {'palavra': 'a', 'quant': 2}, {'palavra': 'força', 'quant': 1}, {'palavra': 'obtê-lo', 'quant': 1}, {'palavra': 'corrida', 'quant': 1}, {'palavra': 'pelo', 'quant': 1}, {'palavra': 'começado', 'quant': 1}, {'palavra': 'tempo', 'quant': 1}, {'palavra': 'diria', 'quant': 1}, {'palavra': 'quem', 'quant': 1}, {'palavra': 'seria', 'quant': 1}, {'palavra': 'vencedor', 'quant': 1}]\n",
      "[{'palavra': 'o', 'quant': 6}, {'palavra': 'sua', 'quant': 5}, {'palavra': 'um', 'quant': 4}, {'palavra': 'e', 'quant': 4}, {'palavra': 'em', 'quant': 3}, {'palavra': 'alex', 'quant': 3}, {'palavra': 'tesouro', 'quant': 3}, {'palavra': 'ele', 'quant': 2}, {'palavra': 'havia', 'quant': 2}, {'palavra': 'os', 'quant': 2}, {'palavra': 'com', 'quant': 2}, {'palavra': 'para', 'quant': 2}, {'palavra': 'não', 'quant': 2}, {'palavra': 'apenas', 'quant': 2}, {'palavra': 'a', 'quant': 2}, {'palavra': 'uma', 'quant': 1}, {'palavra': 'terra', 'quant': 1}, {'palavra': 'distante', 'quant': 1}, {'palavra': 'onde', 'quant': 1}, {'palavra': 'sol', 'quant': 1}, {'palavra': 'se', 'quant': 1}, {'palavra': 'punha', 'quant': 1}, {'palavra': 'sobre', 'quant': 1}, {'palavra': 'as', 'quant': 1}, {'palavra': 'montanhas', 'quant': 1}, {'palavra': 'jovem', 'quant': 1}, {'palavra': 'aventureiro', 'quant': 1}, {'palavra': 'chamado', 'quant': 1}, {'palavra': 'começou', 'quant': 1}, {'palavra': 'jornada', 'quant': 1}, {'palavra': 'buscava', 'quant': 1}, {'palavra': 'perdido', 'quant': 1}, {'palavra': 'da', 'quant': 1}, {'palavra': 'cidade', 'quant': 1}, {'palavra': 'antiga', 'quant': 1}, {'palavra': 'mistério', 'quant': 1}, {'palavra': 'que', 'quant': 1}, {'palavra': 'intrigado', 'quant': 1}, {'palavra': 'moradores', 'quant': 1}, {'palavra': 'locais', 'quant': 1}, {'palavra': 'por', 'quant': 1}, {'palavra': 'séculos', 'quant': 1}, {'palavra': 'mochila', 'quant': 1}, {'palavra': 'cheia', 'quant': 1}, {'palavra': 'de', 'quant': 1}, {'palavra': 'provisões', 'quant': 1}, {'palavra': 'espada', 'quant': 1}, {'palavra': 'ao', 'quant': 1}, {'palavra': 'lado', 'quant': 1}, {'palavra': 'enfrentou', 'quant': 1}, {'palavra': 'desafios', 'quant': 1}, {'palavra': 'do', 'quant': 1}, {'palavra': 'caminho', 'quant': 1}, {'palavra': 'desde', 'quant': 1}, {'palavra': 'rios', 'quant': 1}, {'palavra': 'caudalosos', 'quant': 1}, {'palavra': 'até', 'quant': 1}, {'palavra': 'florestas', 'quant': 1}, {'palavra': 'escuras', 'quant': 1}, {'palavra': 'encontrou', 'quant': 1}, {'palavra': 'criaturas', 'quant': 1}, {'palavra': 'estranhas', 'quant': 1}, {'palavra': 'amigos', 'quant': 1}, {'palavra': 'inesperados', 'quant': 1}, {'palavra': 'cada', 'quant': 1}, {'palavra': 'própria', 'quant': 1}, {'palavra': 'história', 'quant': 1}, {'palavra': 'contar', 'quant': 1}, {'palavra': 'mas', 'quant': 1}, {'palavra': 'estava', 'quant': 1}, {'palavra': 'sozinho', 'quant': 1}, {'palavra': 'busca', 'quant': 1}, {'palavra': 'rival', 'quant': 1}, {'palavra': 'sombrio', 'quant': 1}, {'palavra': 'conhecido', 'quant': 1}, {'palavra': 'como', 'quant': 1}, {'palavra': 'caçador', 'quant': 1}, {'palavra': 'também', 'quant': 1}, {'palavra': 'procurava', 'quant': 1}, {'palavra': 'hesitaria', 'quant': 1}, {'palavra': 'usar', 'quant': 1}, {'palavra': 'força', 'quant': 1}, {'palavra': 'obtê-lo', 'quant': 1}, {'palavra': 'corrida', 'quant': 1}, {'palavra': 'pelo', 'quant': 1}, {'palavra': 'começado', 'quant': 1}, {'palavra': 'tempo', 'quant': 1}, {'palavra': 'diria', 'quant': 1}, {'palavra': 'quem', 'quant': 1}, {'palavra': 'seria', 'quant': 1}, {'palavra': 'vencedor', 'quant': 1}]\n"
     ]
    }
   ],
   "source": [
    "palavras = conteudo.split()\n",
    "palavras = [palavra.strip('.,!?\"\\'').lower() for palavra in palavras]\n",
    "p = []\n",
    "for i in palavras:\n",
    "    if i in [x['palavra'] for x in p]:\n",
    "        for x in p:\n",
    "            if x['palavra'] == i:\n",
    "                x['quant'] +=1\n",
    "    else:\n",
    "        p.append({\"palavra\": i,\"quant\": 1})\n",
    "\n",
    "print(palavras)\n",
    "print(p)\n",
    "p.sort(key=lambda x: x['quant'], reverse=True)\n",
    "print(p)"
   ]
  },
  {
   "cell_type": "code",
   "execution_count": 13,
   "metadata": {},
   "outputs": [],
   "source": [
    "arquivo.close()"
   ]
  }
 ],
 "metadata": {
  "kernelspec": {
   "display_name": "Python 3",
   "language": "python",
   "name": "python3"
  },
  "language_info": {
   "codemirror_mode": {
    "name": "ipython",
    "version": 3
   },
   "file_extension": ".py",
   "mimetype": "text/x-python",
   "name": "python",
   "nbconvert_exporter": "python",
   "pygments_lexer": "ipython3",
   "version": "3.8.10"
  }
 },
 "nbformat": 4,
 "nbformat_minor": 2
}
