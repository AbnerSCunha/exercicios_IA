{
 "cells": [
  {
   "cell_type": "markdown",
   "metadata": {},
   "source": [
    "## Exercicio 4\n",
    "Escreva uma função que ordene uma lista de strings em ordem alfabética e outra que ordene numericamente."
   ]
  },
  {
   "cell_type": "code",
   "execution_count": 1,
   "metadata": {},
   "outputs": [],
   "source": [
    "def ordem_alfabetica(a):\n",
    "    a.sort()\n",
    "    return a\n",
    "\n",
    "def ordem_alfabetica_inversa(a):\n",
    "    a.sort(reverse=True)\n",
    "    return a"
   ]
  },
  {
   "cell_type": "code",
   "execution_count": 2,
   "metadata": {},
   "outputs": [
    {
     "name": "stdout",
     "output_type": "stream",
     "text": [
      "1 .  abacate\n",
      "2 .  banana\n",
      "3 .  laranja\n",
      "4 .  manga\n",
      "5 .  maçã\n"
     ]
    }
   ],
   "source": [
    "lista_de_strings = [\"maçã\", \"banana\", \"laranja\", \"manga\", \"abacate\"]\n",
    "lista_de_numeros = [\"3\", \"1\", \"2\", \"4\"]\n",
    "\n",
    "ordem_alfabetica(lista_de_strings)\n",
    "\n",
    "i = 1\n",
    "for item in lista_de_strings:\n",
    "    print(i,\". \", item)\n",
    "    i += 1"
   ]
  }
 ],
 "metadata": {
  "kernelspec": {
   "display_name": "Python 3",
   "language": "python",
   "name": "python3"
  },
  "language_info": {
   "codemirror_mode": {
    "name": "ipython",
    "version": 3
   },
   "file_extension": ".py",
   "mimetype": "text/x-python",
   "name": "python",
   "nbconvert_exporter": "python",
   "pygments_lexer": "ipython3",
   "version": "3.8.10"
  }
 },
 "nbformat": 4,
 "nbformat_minor": 2
}
